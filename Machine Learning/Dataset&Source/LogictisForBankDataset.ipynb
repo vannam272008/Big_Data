{
  "nbformat": 4,
  "nbformat_minor": 0,
  "metadata": {
    "colab": {
      "name": "51800903_51800886_51800904_LogictisForBankDataset.ipynb",
      "provenance": [],
      "collapsed_sections": []
    },
    "kernelspec": {
      "name": "python3",
      "display_name": "Python 3"
    },
    "language_info": {
      "name": "python"
    }
  },
  "cells": [
    {
      "cell_type": "code",
      "metadata": {
        "id": "bfeKeQ-BpiMv"
      },
      "source": [
        "!pip install pyspark"
      ],
      "execution_count": null,
      "outputs": []
    },
    {
      "cell_type": "code",
      "metadata": {
        "id": "3Vf6n8W9pwQh"
      },
      "source": [
        "from pyspark.sql import SparkSession,SQLContext\n",
        "import pandas as pd"
      ],
      "execution_count": 7,
      "outputs": []
    },
    {
      "cell_type": "code",
      "metadata": {
        "id": "iUzLPLSHl350"
      },
      "source": [
        "# Config Spark context\n",
        "spark = SparkSession.builder.appName(\"Banking Marketing\").getOrCreate();"
      ],
      "execution_count": 8,
      "outputs": []
    },
    {
      "cell_type": "code",
      "metadata": {
        "id": "A_vHfriNqDHD"
      },
      "source": [
        "from google.colab import drive\n",
        "drive.mount('/content/drive')\n",
        "df = spark.read.csv(\"/content/drive/MyDrive/bank.csv\", header=True, inferSchema=True)"
      ],
      "execution_count": null,
      "outputs": []
    },
    {
      "cell_type": "code",
      "metadata": {
        "colab": {
          "base_uri": "https://localhost:8080/"
        },
        "id": "NhFslcHAqq8C",
        "outputId": "78931234-e7dc-4f11-a16b-b9e5927aff82"
      },
      "source": [
        "df.printSchema()"
      ],
      "execution_count": 10,
      "outputs": [
        {
          "output_type": "stream",
          "text": [
            "root\n",
            " |-- age: integer (nullable = true)\n",
            " |-- job: string (nullable = true)\n",
            " |-- marital: string (nullable = true)\n",
            " |-- education: string (nullable = true)\n",
            " |-- default: string (nullable = true)\n",
            " |-- balance: integer (nullable = true)\n",
            " |-- housing: string (nullable = true)\n",
            " |-- loan: string (nullable = true)\n",
            " |-- contact: string (nullable = true)\n",
            " |-- day: integer (nullable = true)\n",
            " |-- month: string (nullable = true)\n",
            " |-- duration: integer (nullable = true)\n",
            " |-- campaign: integer (nullable = true)\n",
            " |-- pdays: integer (nullable = true)\n",
            " |-- previous: integer (nullable = true)\n",
            " |-- poutcome: string (nullable = true)\n",
            " |-- deposit: string (nullable = true)\n",
            "\n"
          ],
          "name": "stdout"
        }
      ]
    },
    {
      "cell_type": "code",
      "metadata": {
        "id": "PRVB3Z44fPuF"
      },
      "source": [
        "string_features = ['job', 'marital', 'education', 'default', 'housing', 'loan', 'contact','month', 'poutcome', 'deposit']"
      ],
      "execution_count": 11,
      "outputs": []
    },
    {
      "cell_type": "code",
      "metadata": {
        "id": "3NiMqm3HskSY"
      },
      "source": [
        "# Convert String col to Numeric\n",
        "from pyspark.ml.feature import StringIndexer\n",
        "for i in string_features:\n",
        "  indexer = StringIndexer()\n",
        "  indexer.setInputCol(i).setOutputCol(i + \"_indexer\")\n",
        "  df = indexer.fit(df).transform(df)"
      ],
      "execution_count": 12,
      "outputs": []
    },
    {
      "cell_type": "code",
      "metadata": {
        "colab": {
          "base_uri": "https://localhost:8080/"
        },
        "id": "U8iqK9_XfLUo",
        "outputId": "2e393464-186f-4191-d3cd-04a926dba366"
      },
      "source": [
        "df.show()"
      ],
      "execution_count": 13,
      "outputs": [
        {
          "output_type": "stream",
          "text": [
            "+---+-----------+--------+---------+-------+-------+-------+----+-------+---+-----+--------+--------+-----+--------+--------+-------+-----------+---------------+-----------------+---------------+---------------+------------+---------------+-------------+----------------+---------------+\n",
            "|age|        job| marital|education|default|balance|housing|loan|contact|day|month|duration|campaign|pdays|previous|poutcome|deposit|job_indexer|marital_indexer|education_indexer|default_indexer|housing_indexer|loan_indexer|contact_indexer|month_indexer|poutcome_indexer|deposit_indexer|\n",
            "+---+-----------+--------+---------+-------+-------+-------+----+-------+---+-----+--------+--------+-----+--------+--------+-------+-----------+---------------+-----------------+---------------+---------------+------------+---------------+-------------+----------------+---------------+\n",
            "| 59|     admin.| married|secondary|     no|   2343|    yes|  no|unknown|  5|  may|    1042|       1|   -1|       0| unknown|    yes|        3.0|            0.0|              0.0|            0.0|            1.0|         0.0|            1.0|          0.0|             0.0|            1.0|\n",
            "| 56|     admin.| married|secondary|     no|     45|     no|  no|unknown|  5|  may|    1467|       1|   -1|       0| unknown|    yes|        3.0|            0.0|              0.0|            0.0|            0.0|         0.0|            1.0|          0.0|             0.0|            1.0|\n",
            "| 41| technician| married|secondary|     no|   1270|    yes|  no|unknown|  5|  may|    1389|       1|   -1|       0| unknown|    yes|        2.0|            0.0|              0.0|            0.0|            1.0|         0.0|            1.0|          0.0|             0.0|            1.0|\n",
            "| 55|   services| married|secondary|     no|   2476|    yes|  no|unknown|  5|  may|     579|       1|   -1|       0| unknown|    yes|        4.0|            0.0|              0.0|            0.0|            1.0|         0.0|            1.0|          0.0|             0.0|            1.0|\n",
            "| 54|     admin.| married| tertiary|     no|    184|     no|  no|unknown|  5|  may|     673|       2|   -1|       0| unknown|    yes|        3.0|            0.0|              1.0|            0.0|            0.0|         0.0|            1.0|          0.0|             0.0|            1.0|\n",
            "| 42| management|  single| tertiary|     no|      0|    yes| yes|unknown|  5|  may|     562|       2|   -1|       0| unknown|    yes|        0.0|            1.0|              1.0|            0.0|            1.0|         1.0|            1.0|          0.0|             0.0|            1.0|\n",
            "| 56| management| married| tertiary|     no|    830|    yes| yes|unknown|  6|  may|    1201|       1|   -1|       0| unknown|    yes|        0.0|            0.0|              1.0|            0.0|            1.0|         1.0|            1.0|          0.0|             0.0|            1.0|\n",
            "| 60|    retired|divorced|secondary|     no|    545|    yes|  no|unknown|  6|  may|    1030|       1|   -1|       0| unknown|    yes|        5.0|            2.0|              0.0|            0.0|            1.0|         0.0|            1.0|          0.0|             0.0|            1.0|\n",
            "| 37| technician| married|secondary|     no|      1|    yes|  no|unknown|  6|  may|     608|       1|   -1|       0| unknown|    yes|        2.0|            0.0|              0.0|            0.0|            1.0|         0.0|            1.0|          0.0|             0.0|            1.0|\n",
            "| 28|   services|  single|secondary|     no|   5090|    yes|  no|unknown|  6|  may|    1297|       3|   -1|       0| unknown|    yes|        4.0|            1.0|              0.0|            0.0|            1.0|         0.0|            1.0|          0.0|             0.0|            1.0|\n",
            "| 38|     admin.|  single|secondary|     no|    100|    yes|  no|unknown|  7|  may|     786|       1|   -1|       0| unknown|    yes|        3.0|            1.0|              0.0|            0.0|            1.0|         0.0|            1.0|          0.0|             0.0|            1.0|\n",
            "| 30|blue-collar| married|secondary|     no|    309|    yes|  no|unknown|  7|  may|    1574|       2|   -1|       0| unknown|    yes|        1.0|            0.0|              0.0|            0.0|            1.0|         0.0|            1.0|          0.0|             0.0|            1.0|\n",
            "| 29| management| married| tertiary|     no|    199|    yes| yes|unknown|  7|  may|    1689|       4|   -1|       0| unknown|    yes|        0.0|            0.0|              1.0|            0.0|            1.0|         1.0|            1.0|          0.0|             0.0|            1.0|\n",
            "| 46|blue-collar|  single| tertiary|     no|    460|    yes|  no|unknown|  7|  may|    1102|       2|   -1|       0| unknown|    yes|        1.0|            1.0|              1.0|            0.0|            1.0|         0.0|            1.0|          0.0|             0.0|            1.0|\n",
            "| 31| technician|  single| tertiary|     no|    703|    yes|  no|unknown|  8|  may|     943|       2|   -1|       0| unknown|    yes|        2.0|            1.0|              1.0|            0.0|            1.0|         0.0|            1.0|          0.0|             0.0|            1.0|\n",
            "| 35| management|divorced| tertiary|     no|   3837|    yes|  no|unknown|  8|  may|    1084|       1|   -1|       0| unknown|    yes|        0.0|            2.0|              1.0|            0.0|            1.0|         0.0|            1.0|          0.0|             0.0|            1.0|\n",
            "| 32|blue-collar|  single|  primary|     no|    611|    yes|  no|unknown|  8|  may|     541|       3|   -1|       0| unknown|    yes|        1.0|            1.0|              2.0|            0.0|            1.0|         0.0|            1.0|          0.0|             0.0|            1.0|\n",
            "| 49|   services| married|secondary|     no|     -8|    yes|  no|unknown|  8|  may|    1119|       1|   -1|       0| unknown|    yes|        4.0|            0.0|              0.0|            0.0|            1.0|         0.0|            1.0|          0.0|             0.0|            1.0|\n",
            "| 41|     admin.| married|secondary|     no|     55|    yes|  no|unknown|  8|  may|    1120|       2|   -1|       0| unknown|    yes|        3.0|            0.0|              0.0|            0.0|            1.0|         0.0|            1.0|          0.0|             0.0|            1.0|\n",
            "| 49|     admin.|divorced|secondary|     no|    168|    yes| yes|unknown|  8|  may|     513|       1|   -1|       0| unknown|    yes|        3.0|            2.0|              0.0|            0.0|            1.0|         1.0|            1.0|          0.0|             0.0|            1.0|\n",
            "+---+-----------+--------+---------+-------+-------+-------+----+-------+---+-----+--------+--------+-----+--------+--------+-------+-----------+---------------+-----------------+---------------+---------------+------------+---------------+-------------+----------------+---------------+\n",
            "only showing top 20 rows\n",
            "\n"
          ],
          "name": "stdout"
        }
      ]
    },
    {
      "cell_type": "code",
      "metadata": {
        "id": "hFiOwQWug-LB"
      },
      "source": [
        "df = df.drop(*string_features)"
      ],
      "execution_count": 14,
      "outputs": []
    },
    {
      "cell_type": "code",
      "metadata": {
        "id": "-aCf7RQPhuQc"
      },
      "source": [
        "df.printSchema()"
      ],
      "execution_count": null,
      "outputs": []
    },
    {
      "cell_type": "code",
      "metadata": {
        "colab": {
          "base_uri": "https://localhost:8080/"
        },
        "id": "vjjgzpHchI6Q",
        "outputId": "c6994553-d5b0-4ced-b4d5-6300b6e4536a"
      },
      "source": [
        "df.show()"
      ],
      "execution_count": 16,
      "outputs": [
        {
          "output_type": "stream",
          "text": [
            "+---+-------+---+--------+--------+-----+--------+-----------+---------------+-----------------+---------------+---------------+------------+---------------+-------------+----------------+---------------+\n",
            "|age|balance|day|duration|campaign|pdays|previous|job_indexer|marital_indexer|education_indexer|default_indexer|housing_indexer|loan_indexer|contact_indexer|month_indexer|poutcome_indexer|deposit_indexer|\n",
            "+---+-------+---+--------+--------+-----+--------+-----------+---------------+-----------------+---------------+---------------+------------+---------------+-------------+----------------+---------------+\n",
            "| 59|   2343|  5|    1042|       1|   -1|       0|        3.0|            0.0|              0.0|            0.0|            1.0|         0.0|            1.0|          0.0|             0.0|            1.0|\n",
            "| 56|     45|  5|    1467|       1|   -1|       0|        3.0|            0.0|              0.0|            0.0|            0.0|         0.0|            1.0|          0.0|             0.0|            1.0|\n",
            "| 41|   1270|  5|    1389|       1|   -1|       0|        2.0|            0.0|              0.0|            0.0|            1.0|         0.0|            1.0|          0.0|             0.0|            1.0|\n",
            "| 55|   2476|  5|     579|       1|   -1|       0|        4.0|            0.0|              0.0|            0.0|            1.0|         0.0|            1.0|          0.0|             0.0|            1.0|\n",
            "| 54|    184|  5|     673|       2|   -1|       0|        3.0|            0.0|              1.0|            0.0|            0.0|         0.0|            1.0|          0.0|             0.0|            1.0|\n",
            "| 42|      0|  5|     562|       2|   -1|       0|        0.0|            1.0|              1.0|            0.0|            1.0|         1.0|            1.0|          0.0|             0.0|            1.0|\n",
            "| 56|    830|  6|    1201|       1|   -1|       0|        0.0|            0.0|              1.0|            0.0|            1.0|         1.0|            1.0|          0.0|             0.0|            1.0|\n",
            "| 60|    545|  6|    1030|       1|   -1|       0|        5.0|            2.0|              0.0|            0.0|            1.0|         0.0|            1.0|          0.0|             0.0|            1.0|\n",
            "| 37|      1|  6|     608|       1|   -1|       0|        2.0|            0.0|              0.0|            0.0|            1.0|         0.0|            1.0|          0.0|             0.0|            1.0|\n",
            "| 28|   5090|  6|    1297|       3|   -1|       0|        4.0|            1.0|              0.0|            0.0|            1.0|         0.0|            1.0|          0.0|             0.0|            1.0|\n",
            "| 38|    100|  7|     786|       1|   -1|       0|        3.0|            1.0|              0.0|            0.0|            1.0|         0.0|            1.0|          0.0|             0.0|            1.0|\n",
            "| 30|    309|  7|    1574|       2|   -1|       0|        1.0|            0.0|              0.0|            0.0|            1.0|         0.0|            1.0|          0.0|             0.0|            1.0|\n",
            "| 29|    199|  7|    1689|       4|   -1|       0|        0.0|            0.0|              1.0|            0.0|            1.0|         1.0|            1.0|          0.0|             0.0|            1.0|\n",
            "| 46|    460|  7|    1102|       2|   -1|       0|        1.0|            1.0|              1.0|            0.0|            1.0|         0.0|            1.0|          0.0|             0.0|            1.0|\n",
            "| 31|    703|  8|     943|       2|   -1|       0|        2.0|            1.0|              1.0|            0.0|            1.0|         0.0|            1.0|          0.0|             0.0|            1.0|\n",
            "| 35|   3837|  8|    1084|       1|   -1|       0|        0.0|            2.0|              1.0|            0.0|            1.0|         0.0|            1.0|          0.0|             0.0|            1.0|\n",
            "| 32|    611|  8|     541|       3|   -1|       0|        1.0|            1.0|              2.0|            0.0|            1.0|         0.0|            1.0|          0.0|             0.0|            1.0|\n",
            "| 49|     -8|  8|    1119|       1|   -1|       0|        4.0|            0.0|              0.0|            0.0|            1.0|         0.0|            1.0|          0.0|             0.0|            1.0|\n",
            "| 41|     55|  8|    1120|       2|   -1|       0|        3.0|            0.0|              0.0|            0.0|            1.0|         0.0|            1.0|          0.0|             0.0|            1.0|\n",
            "| 49|    168|  8|     513|       1|   -1|       0|        3.0|            2.0|              0.0|            0.0|            1.0|         1.0|            1.0|          0.0|             0.0|            1.0|\n",
            "+---+-------+---+--------+--------+-----+--------+-----------+---------------+-----------------+---------------+---------------+------------+---------------+-------------+----------------+---------------+\n",
            "only showing top 20 rows\n",
            "\n"
          ],
          "name": "stdout"
        }
      ]
    },
    {
      "cell_type": "code",
      "metadata": {
        "id": "vOAjGgj4hdCI"
      },
      "source": [
        "feature_names = df.columns[:-1]"
      ],
      "execution_count": 17,
      "outputs": []
    },
    {
      "cell_type": "code",
      "metadata": {
        "id": "KSZcoAEedbd3"
      },
      "source": [
        "feature_names"
      ],
      "execution_count": null,
      "outputs": []
    },
    {
      "cell_type": "code",
      "metadata": {
        "id": "LAcJ0A7Rw3j9"
      },
      "source": [
        "from pyspark.ml.feature import VectorAssembler\n",
        "\n",
        "# Use VectorAssembler to transform data into vector\n",
        "assembler = VectorAssembler(inputCols=feature_names, outputCol=\"features\")\n",
        "transformed_data = assembler.transform(df)"
      ],
      "execution_count": 19,
      "outputs": []
    },
    {
      "cell_type": "code",
      "metadata": {
        "colab": {
          "base_uri": "https://localhost:8080/"
        },
        "id": "9Q_m1agsw8kG",
        "outputId": "bb74a6b8-d81f-4944-f3bd-1145d3c8022a"
      },
      "source": [
        "transformed_data.show()"
      ],
      "execution_count": 20,
      "outputs": [
        {
          "output_type": "stream",
          "text": [
            "+---+-------+---+--------+--------+-----+--------+-----------+---------------+-----------------+---------------+---------------+------------+---------------+-------------+----------------+---------------+--------------------+\n",
            "|age|balance|day|duration|campaign|pdays|previous|job_indexer|marital_indexer|education_indexer|default_indexer|housing_indexer|loan_indexer|contact_indexer|month_indexer|poutcome_indexer|deposit_indexer|            features|\n",
            "+---+-------+---+--------+--------+-----+--------+-----------+---------------+-----------------+---------------+---------------+------------+---------------+-------------+----------------+---------------+--------------------+\n",
            "| 59|   2343|  5|    1042|       1|   -1|       0|        3.0|            0.0|              0.0|            0.0|            1.0|         0.0|            1.0|          0.0|             0.0|            1.0|(16,[0,1,2,3,4,5,...|\n",
            "| 56|     45|  5|    1467|       1|   -1|       0|        3.0|            0.0|              0.0|            0.0|            0.0|         0.0|            1.0|          0.0|             0.0|            1.0|(16,[0,1,2,3,4,5,...|\n",
            "| 41|   1270|  5|    1389|       1|   -1|       0|        2.0|            0.0|              0.0|            0.0|            1.0|         0.0|            1.0|          0.0|             0.0|            1.0|(16,[0,1,2,3,4,5,...|\n",
            "| 55|   2476|  5|     579|       1|   -1|       0|        4.0|            0.0|              0.0|            0.0|            1.0|         0.0|            1.0|          0.0|             0.0|            1.0|(16,[0,1,2,3,4,5,...|\n",
            "| 54|    184|  5|     673|       2|   -1|       0|        3.0|            0.0|              1.0|            0.0|            0.0|         0.0|            1.0|          0.0|             0.0|            1.0|(16,[0,1,2,3,4,5,...|\n",
            "| 42|      0|  5|     562|       2|   -1|       0|        0.0|            1.0|              1.0|            0.0|            1.0|         1.0|            1.0|          0.0|             0.0|            1.0|[42.0,0.0,5.0,562...|\n",
            "| 56|    830|  6|    1201|       1|   -1|       0|        0.0|            0.0|              1.0|            0.0|            1.0|         1.0|            1.0|          0.0|             0.0|            1.0|[56.0,830.0,6.0,1...|\n",
            "| 60|    545|  6|    1030|       1|   -1|       0|        5.0|            2.0|              0.0|            0.0|            1.0|         0.0|            1.0|          0.0|             0.0|            1.0|[60.0,545.0,6.0,1...|\n",
            "| 37|      1|  6|     608|       1|   -1|       0|        2.0|            0.0|              0.0|            0.0|            1.0|         0.0|            1.0|          0.0|             0.0|            1.0|(16,[0,1,2,3,4,5,...|\n",
            "| 28|   5090|  6|    1297|       3|   -1|       0|        4.0|            1.0|              0.0|            0.0|            1.0|         0.0|            1.0|          0.0|             0.0|            1.0|[28.0,5090.0,6.0,...|\n",
            "| 38|    100|  7|     786|       1|   -1|       0|        3.0|            1.0|              0.0|            0.0|            1.0|         0.0|            1.0|          0.0|             0.0|            1.0|[38.0,100.0,7.0,7...|\n",
            "| 30|    309|  7|    1574|       2|   -1|       0|        1.0|            0.0|              0.0|            0.0|            1.0|         0.0|            1.0|          0.0|             0.0|            1.0|(16,[0,1,2,3,4,5,...|\n",
            "| 29|    199|  7|    1689|       4|   -1|       0|        0.0|            0.0|              1.0|            0.0|            1.0|         1.0|            1.0|          0.0|             0.0|            1.0|[29.0,199.0,7.0,1...|\n",
            "| 46|    460|  7|    1102|       2|   -1|       0|        1.0|            1.0|              1.0|            0.0|            1.0|         0.0|            1.0|          0.0|             0.0|            1.0|[46.0,460.0,7.0,1...|\n",
            "| 31|    703|  8|     943|       2|   -1|       0|        2.0|            1.0|              1.0|            0.0|            1.0|         0.0|            1.0|          0.0|             0.0|            1.0|[31.0,703.0,8.0,9...|\n",
            "| 35|   3837|  8|    1084|       1|   -1|       0|        0.0|            2.0|              1.0|            0.0|            1.0|         0.0|            1.0|          0.0|             0.0|            1.0|[35.0,3837.0,8.0,...|\n",
            "| 32|    611|  8|     541|       3|   -1|       0|        1.0|            1.0|              2.0|            0.0|            1.0|         0.0|            1.0|          0.0|             0.0|            1.0|[32.0,611.0,8.0,5...|\n",
            "| 49|     -8|  8|    1119|       1|   -1|       0|        4.0|            0.0|              0.0|            0.0|            1.0|         0.0|            1.0|          0.0|             0.0|            1.0|(16,[0,1,2,3,4,5,...|\n",
            "| 41|     55|  8|    1120|       2|   -1|       0|        3.0|            0.0|              0.0|            0.0|            1.0|         0.0|            1.0|          0.0|             0.0|            1.0|(16,[0,1,2,3,4,5,...|\n",
            "| 49|    168|  8|     513|       1|   -1|       0|        3.0|            2.0|              0.0|            0.0|            1.0|         1.0|            1.0|          0.0|             0.0|            1.0|[49.0,168.0,8.0,5...|\n",
            "+---+-------+---+--------+--------+-----+--------+-----------+---------------+-----------------+---------------+---------------+------------+---------------+-------------+----------------+---------------+--------------------+\n",
            "only showing top 20 rows\n",
            "\n"
          ],
          "name": "stdout"
        }
      ]
    },
    {
      "cell_type": "code",
      "metadata": {
        "id": "7L4iQspQiC4v"
      },
      "source": [
        "# Tách train test\n",
        "(training_data, test_data) = transformed_data.randomSplit([0.8,0.2])"
      ],
      "execution_count": 21,
      "outputs": []
    },
    {
      "cell_type": "code",
      "metadata": {
        "id": "W2glBJFzxAiq"
      },
      "source": [
        "from pyspark.ml.classification import LogisticRegression\n",
        "model = LogisticRegression(featuresCol = 'features',labelCol='deposit_indexer', maxIter=30)"
      ],
      "execution_count": 22,
      "outputs": []
    },
    {
      "cell_type": "code",
      "metadata": {
        "id": "f1-F-HO1xUO_"
      },
      "source": [
        "# Fit model\n",
        "fit_model = model.fit(training_data)"
      ],
      "execution_count": 23,
      "outputs": []
    },
    {
      "cell_type": "code",
      "metadata": {
        "id": "Eej_qGSRiggh"
      },
      "source": [
        "# Dự đoán data\n",
        "y_pred = fit_model.transform(test_data)"
      ],
      "execution_count": 24,
      "outputs": []
    },
    {
      "cell_type": "code",
      "metadata": {
        "colab": {
          "base_uri": "https://localhost:8080/"
        },
        "id": "-2rMwKIwimHH",
        "outputId": "6b34f8ca-e306-4518-f085-0424c93e8198"
      },
      "source": [
        "from pyspark.ml.evaluation import MulticlassClassificationEvaluator\n",
        "\n",
        "# Tính accuracy\n",
        "multi_evaluator = MulticlassClassificationEvaluator(labelCol = 'deposit_indexer', metricName = 'accuracy')\n",
        "print('Logistic Regression Accuracy:', multi_evaluator.evaluate(y_pred))\n"
      ],
      "execution_count": 25,
      "outputs": [
        {
          "output_type": "stream",
          "text": [
            "Logistic Regression Accuracy: 0.7877295118674429\n"
          ],
          "name": "stdout"
        }
      ]
    },
    {
      "cell_type": "code",
      "metadata": {
        "id": "LSxpkejijFb3"
      },
      "source": [
        ""
      ],
      "execution_count": 25,
      "outputs": []
    }
  ]
}