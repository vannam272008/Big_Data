{
  "nbformat": 4,
  "nbformat_minor": 0,
  "metadata": {
    "colab": {
      "name": "Untitled2.ipynb",
      "provenance": []
    },
    "kernelspec": {
      "name": "python3",
      "display_name": "Python 3"
    }
  },
  "cells": [
    {
      "cell_type": "code",
      "metadata": {
        "colab": {
          "base_uri": "https://localhost:8080/"
        },
        "id": "ps1mSQqnOYKJ",
        "outputId": "357e1b7a-ffc9-4984-998c-ce090d35a693"
      },
      "source": [
        "!pip install pyspark"
      ],
      "execution_count": 1,
      "outputs": [
        {
          "output_type": "stream",
          "text": [
            "Collecting pyspark\n",
            "\u001b[?25l  Downloading https://files.pythonhosted.org/packages/f0/26/198fc8c0b98580f617cb03cb298c6056587b8f0447e20fa40c5b634ced77/pyspark-3.0.1.tar.gz (204.2MB)\n",
            "\u001b[K     |████████████████████████████████| 204.2MB 67kB/s \n",
            "\u001b[?25hCollecting py4j==0.10.9\n",
            "\u001b[?25l  Downloading https://files.pythonhosted.org/packages/9e/b6/6a4fb90cd235dc8e265a6a2067f2a2c99f0d91787f06aca4bcf7c23f3f80/py4j-0.10.9-py2.py3-none-any.whl (198kB)\n",
            "\u001b[K     |████████████████████████████████| 204kB 48.1MB/s \n",
            "\u001b[?25hBuilding wheels for collected packages: pyspark\n",
            "  Building wheel for pyspark (setup.py) ... \u001b[?25l\u001b[?25hdone\n",
            "  Created wheel for pyspark: filename=pyspark-3.0.1-py2.py3-none-any.whl size=204612242 sha256=71ab5f7f15d0aa913c9363dfb0ec812c2bd62e427e749abeabd01b6397794a5a\n",
            "  Stored in directory: /root/.cache/pip/wheels/5e/bd/07/031766ca628adec8435bb40f0bd83bb676ce65ff4007f8e73f\n",
            "Successfully built pyspark\n",
            "Installing collected packages: py4j, pyspark\n",
            "Successfully installed py4j-0.10.9 pyspark-3.0.1\n"
          ],
          "name": "stdout"
        }
      ]
    },
    {
      "cell_type": "code",
      "metadata": {
        "id": "EwmeXUtiPKi4"
      },
      "source": [
        "import pyspark\r\n",
        "from pyspark import SparkConf, SparkContext\r\n",
        "import collections\r\n",
        "\r\n",
        "conf = SparkConf().setMaster(\"local\").setAppName(\"Word couting\")\r\n",
        "sc = SparkContext.getOrCreate(conf=conf)"
      ],
      "execution_count": 2,
      "outputs": []
    },
    {
      "cell_type": "code",
      "metadata": {
        "id": "OO5XygvAP5uy"
      },
      "source": [
        "text_file = sc.textFile(\"/content/file.txt\")"
      ],
      "execution_count": 42,
      "outputs": []
    },
    {
      "cell_type": "code",
      "metadata": {
        "id": "_0aMD0isP_mz"
      },
      "source": [
        "token = text_file.first().split(\" \")\r\n",
        "rdd = sc.parallelize(token)\r\n",
        "counts = rdd.map(lambda word: (word, 1))"
      ],
      "execution_count": 43,
      "outputs": []
    },
    {
      "cell_type": "code",
      "metadata": {
        "colab": {
          "base_uri": "https://localhost:8080/"
        },
        "id": "dRruiY66QRIH",
        "outputId": "0deea5ac-4035-42cb-b67e-f6fb9621e0a4"
      },
      "source": [
        "red = counts.reduceByKey(lambda x,y : x+y)\r\n",
        "print(red.collect())"
      ],
      "execution_count": 47,
      "outputs": [
        {
          "output_type": "stream",
          "text": [
            "[('xử', 3), ('lý', 3), ('dữ', 4), ('liệu:', 1), ('Spark', 1), ('liệu', 1), ('theo', 1), ('lô', 1), ('và', 1), ('thời', 1), ('gian', 1), ('thực', 1), ('dữ.', 1)]\n"
          ],
          "name": "stdout"
        }
      ]
    },
    {
      "cell_type": "code",
      "metadata": {
        "colab": {
          "base_uri": "https://localhost:8080/"
        },
        "id": "s49RF68dQfat",
        "outputId": "a43f507c-40a4-49c7-fd45-d632478af324"
      },
      "source": [
        "max = 0\r\n",
        "contain = []\r\n",
        "for i in red.collect():\r\n",
        "  if(i[1] > max):\r\n",
        "    max = i[1]\r\n",
        "    contain = []\r\n",
        "    contain.append(i[:])\r\n",
        "  elif i[1] == max:\r\n",
        "    contain.append(i[:])\r\n",
        "\r\n",
        "print(contain)"
      ],
      "execution_count": 48,
      "outputs": [
        {
          "output_type": "stream",
          "text": [
            "[('dữ', 4)]\n"
          ],
          "name": "stdout"
        }
      ]
    },
    {
      "cell_type": "code",
      "metadata": {
        "id": "uytobkt7SJyH"
      },
      "source": [
        ""
      ],
      "execution_count": null,
      "outputs": []
    }
  ]
}